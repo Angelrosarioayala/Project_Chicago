{
 "cells": [
  {
   "cell_type": "code",
   "execution_count": 1,
   "metadata": {},
   "outputs": [],
   "source": [
    "%matplotlib inline\n",
    "import pandas as pd\n",
    "import numpy as np\n",
    "import matplotlib.pyplot as plt\n",
    "import seaborn as sns\n",
    "# Preporcesamiento\n",
    "from sklearn.model_selection import train_test_split\n",
    "# Modelo\n",
    "from sklearn.linear_model import LinearRegression\n",
    "from sklearn.linear_model import LassoCV\n",
    "from sklearn.feature_selection import RFECV"
   ]
  },
  {
   "cell_type": "code",
   "execution_count": 2,
   "metadata": {},
   "outputs": [],
   "source": [
    "data = pd.read_csv('table_reg.csv')"
   ]
  },
  {
   "cell_type": "code",
   "execution_count": 3,
   "metadata": {},
   "outputs": [
    {
     "data": {
      "text/html": [
       "<div>\n",
       "<style scoped>\n",
       "    .dataframe tbody tr th:only-of-type {\n",
       "        vertical-align: middle;\n",
       "    }\n",
       "\n",
       "    .dataframe tbody tr th {\n",
       "        vertical-align: top;\n",
       "    }\n",
       "\n",
       "    .dataframe thead th {\n",
       "        text-align: right;\n",
       "    }\n",
       "</style>\n",
       "<table border=\"1\" class=\"dataframe\">\n",
       "  <thead>\n",
       "    <tr style=\"text-align: right;\">\n",
       "      <th></th>\n",
       "      <th>Dates</th>\n",
       "      <th>P_crimines</th>\n",
       "      <th>lang_1</th>\n",
       "      <th>lang_2</th>\n",
       "      <th>lang_3</th>\n",
       "      <th>lang_4</th>\n",
       "      <th>avg_temp</th>\n",
       "    </tr>\n",
       "  </thead>\n",
       "  <tbody>\n",
       "    <tr>\n",
       "      <th>0</th>\n",
       "      <td>2014-01-06</td>\n",
       "      <td>393</td>\n",
       "      <td>NaN</td>\n",
       "      <td>NaN</td>\n",
       "      <td>NaN</td>\n",
       "      <td>NaN</td>\n",
       "      <td>11.0</td>\n",
       "    </tr>\n",
       "    <tr>\n",
       "      <th>1</th>\n",
       "      <td>2014-01-07</td>\n",
       "      <td>376</td>\n",
       "      <td>393.0</td>\n",
       "      <td>NaN</td>\n",
       "      <td>NaN</td>\n",
       "      <td>NaN</td>\n",
       "      <td>12.0</td>\n",
       "    </tr>\n",
       "    <tr>\n",
       "      <th>2</th>\n",
       "      <td>2014-01-08</td>\n",
       "      <td>430</td>\n",
       "      <td>376.0</td>\n",
       "      <td>393.0</td>\n",
       "      <td>NaN</td>\n",
       "      <td>NaN</td>\n",
       "      <td>13.0</td>\n",
       "    </tr>\n",
       "    <tr>\n",
       "      <th>3</th>\n",
       "      <td>2014-01-09</td>\n",
       "      <td>392</td>\n",
       "      <td>430.0</td>\n",
       "      <td>376.0</td>\n",
       "      <td>393.0</td>\n",
       "      <td>NaN</td>\n",
       "      <td>13.0</td>\n",
       "    </tr>\n",
       "    <tr>\n",
       "      <th>4</th>\n",
       "      <td>2014-01-10</td>\n",
       "      <td>465</td>\n",
       "      <td>392.0</td>\n",
       "      <td>430.0</td>\n",
       "      <td>376.0</td>\n",
       "      <td>393.0</td>\n",
       "      <td>12.0</td>\n",
       "    </tr>\n",
       "  </tbody>\n",
       "</table>\n",
       "</div>"
      ],
      "text/plain": [
       "        Dates  P_crimines  lang_1  lang_2  lang_3  lang_4  avg_temp\n",
       "0  2014-01-06         393     NaN     NaN     NaN     NaN      11.0\n",
       "1  2014-01-07         376   393.0     NaN     NaN     NaN      12.0\n",
       "2  2014-01-08         430   376.0   393.0     NaN     NaN      13.0\n",
       "3  2014-01-09         392   430.0   376.0   393.0     NaN      13.0\n",
       "4  2014-01-10         465   392.0   430.0   376.0   393.0      12.0"
      ]
     },
     "execution_count": 3,
     "metadata": {},
     "output_type": "execute_result"
    }
   ],
   "source": [
    "data.head()"
   ]
  },
  {
   "cell_type": "code",
   "execution_count": 4,
   "metadata": {},
   "outputs": [],
   "source": [
    "data['lang_1'].fillna(data['lang_1'].mode()[0],inplace = True)"
   ]
  },
  {
   "cell_type": "code",
   "execution_count": 5,
   "metadata": {},
   "outputs": [],
   "source": [
    "data['lang_2'].fillna(data['lang_2'].mode()[0],inplace = True)"
   ]
  },
  {
   "cell_type": "code",
   "execution_count": 6,
   "metadata": {},
   "outputs": [],
   "source": [
    "data['lang_3'].fillna(data['lang_3'].mode()[0],inplace = True)"
   ]
  },
  {
   "cell_type": "code",
   "execution_count": 7,
   "metadata": {},
   "outputs": [],
   "source": [
    "data['lang_4'].fillna(data['lang_4'].mode()[0],inplace = True)"
   ]
  },
  {
   "cell_type": "code",
   "execution_count": 8,
   "metadata": {},
   "outputs": [],
   "source": [
    "data['avg_temp'].fillna(data['avg_temp'].mode()[0],inplace = True)"
   ]
  },
  {
   "cell_type": "code",
   "execution_count": 9,
   "metadata": {},
   "outputs": [
    {
     "name": "stderr",
     "output_type": "stream",
     "text": [
      "<ipython-input-9-98f17d22d4a6>:1: SettingWithCopyWarning: \n",
      "A value is trying to be set on a copy of a slice from a DataFrame\n",
      "\n",
      "See the caveats in the documentation: https://pandas.pydata.org/pandas-docs/stable/user_guide/indexing.html#returning-a-view-versus-a-copy\n",
      "  data.P_crimines[data.P_crimines == 0] = 380\n",
      "<ipython-input-9-98f17d22d4a6>:2: SettingWithCopyWarning: \n",
      "A value is trying to be set on a copy of a slice from a DataFrame\n",
      "\n",
      "See the caveats in the documentation: https://pandas.pydata.org/pandas-docs/stable/user_guide/indexing.html#returning-a-view-versus-a-copy\n",
      "  data.lang_1[data.lang_1 == 0] = 390\n",
      "<ipython-input-9-98f17d22d4a6>:3: SettingWithCopyWarning: \n",
      "A value is trying to be set on a copy of a slice from a DataFrame\n",
      "\n",
      "See the caveats in the documentation: https://pandas.pydata.org/pandas-docs/stable/user_guide/indexing.html#returning-a-view-versus-a-copy\n",
      "  data.lang_2[data.lang_2 == 0] = 390\n",
      "<ipython-input-9-98f17d22d4a6>:4: SettingWithCopyWarning: \n",
      "A value is trying to be set on a copy of a slice from a DataFrame\n",
      "\n",
      "See the caveats in the documentation: https://pandas.pydata.org/pandas-docs/stable/user_guide/indexing.html#returning-a-view-versus-a-copy\n",
      "  data.lang_3[data.lang_3 == 0] = 390\n",
      "<ipython-input-9-98f17d22d4a6>:5: SettingWithCopyWarning: \n",
      "A value is trying to be set on a copy of a slice from a DataFrame\n",
      "\n",
      "See the caveats in the documentation: https://pandas.pydata.org/pandas-docs/stable/user_guide/indexing.html#returning-a-view-versus-a-copy\n",
      "  data.lang_4[data.lang_4 == 0] = 390\n"
     ]
    }
   ],
   "source": [
    "data.P_crimines[data.P_crimines == 0] = 380\n",
    "data.lang_1[data.lang_1 == 0] = 390\n",
    "data.lang_2[data.lang_2 == 0] = 390\n",
    "data.lang_3[data.lang_3 == 0] = 390\n",
    "data.lang_4[data.lang_4 == 0] = 390"
   ]
  },
  {
   "cell_type": "code",
   "execution_count": 10,
   "metadata": {},
   "outputs": [
    {
     "data": {
      "text/html": [
       "<div>\n",
       "<style scoped>\n",
       "    .dataframe tbody tr th:only-of-type {\n",
       "        vertical-align: middle;\n",
       "    }\n",
       "\n",
       "    .dataframe tbody tr th {\n",
       "        vertical-align: top;\n",
       "    }\n",
       "\n",
       "    .dataframe thead th {\n",
       "        text-align: right;\n",
       "    }\n",
       "</style>\n",
       "<table border=\"1\" class=\"dataframe\">\n",
       "  <thead>\n",
       "    <tr style=\"text-align: right;\">\n",
       "      <th></th>\n",
       "      <th>Dates</th>\n",
       "      <th>P_crimines</th>\n",
       "      <th>lang_1</th>\n",
       "      <th>lang_2</th>\n",
       "      <th>lang_3</th>\n",
       "      <th>lang_4</th>\n",
       "      <th>avg_temp</th>\n",
       "    </tr>\n",
       "  </thead>\n",
       "  <tbody>\n",
       "    <tr>\n",
       "      <th>0</th>\n",
       "      <td>2014-01-06</td>\n",
       "      <td>393</td>\n",
       "      <td>390.0</td>\n",
       "      <td>390.0</td>\n",
       "      <td>390.0</td>\n",
       "      <td>390.0</td>\n",
       "      <td>11.0</td>\n",
       "    </tr>\n",
       "    <tr>\n",
       "      <th>1</th>\n",
       "      <td>2014-01-07</td>\n",
       "      <td>376</td>\n",
       "      <td>393.0</td>\n",
       "      <td>390.0</td>\n",
       "      <td>390.0</td>\n",
       "      <td>390.0</td>\n",
       "      <td>12.0</td>\n",
       "    </tr>\n",
       "    <tr>\n",
       "      <th>2</th>\n",
       "      <td>2014-01-08</td>\n",
       "      <td>430</td>\n",
       "      <td>376.0</td>\n",
       "      <td>393.0</td>\n",
       "      <td>390.0</td>\n",
       "      <td>390.0</td>\n",
       "      <td>13.0</td>\n",
       "    </tr>\n",
       "    <tr>\n",
       "      <th>3</th>\n",
       "      <td>2014-01-09</td>\n",
       "      <td>392</td>\n",
       "      <td>430.0</td>\n",
       "      <td>376.0</td>\n",
       "      <td>393.0</td>\n",
       "      <td>390.0</td>\n",
       "      <td>13.0</td>\n",
       "    </tr>\n",
       "    <tr>\n",
       "      <th>4</th>\n",
       "      <td>2014-01-10</td>\n",
       "      <td>465</td>\n",
       "      <td>392.0</td>\n",
       "      <td>430.0</td>\n",
       "      <td>376.0</td>\n",
       "      <td>393.0</td>\n",
       "      <td>12.0</td>\n",
       "    </tr>\n",
       "    <tr>\n",
       "      <th>5</th>\n",
       "      <td>2014-01-11</td>\n",
       "      <td>395</td>\n",
       "      <td>465.0</td>\n",
       "      <td>392.0</td>\n",
       "      <td>430.0</td>\n",
       "      <td>376.0</td>\n",
       "      <td>11.0</td>\n",
       "    </tr>\n",
       "    <tr>\n",
       "      <th>6</th>\n",
       "      <td>2014-01-12</td>\n",
       "      <td>369</td>\n",
       "      <td>395.0</td>\n",
       "      <td>465.0</td>\n",
       "      <td>392.0</td>\n",
       "      <td>430.0</td>\n",
       "      <td>12.0</td>\n",
       "    </tr>\n",
       "    <tr>\n",
       "      <th>7</th>\n",
       "      <td>2014-01-13</td>\n",
       "      <td>380</td>\n",
       "      <td>369.0</td>\n",
       "      <td>395.0</td>\n",
       "      <td>465.0</td>\n",
       "      <td>392.0</td>\n",
       "      <td>14.0</td>\n",
       "    </tr>\n",
       "    <tr>\n",
       "      <th>8</th>\n",
       "      <td>2014-01-14</td>\n",
       "      <td>380</td>\n",
       "      <td>390.0</td>\n",
       "      <td>369.0</td>\n",
       "      <td>395.0</td>\n",
       "      <td>465.0</td>\n",
       "      <td>14.0</td>\n",
       "    </tr>\n",
       "    <tr>\n",
       "      <th>9</th>\n",
       "      <td>2014-01-15</td>\n",
       "      <td>380</td>\n",
       "      <td>390.0</td>\n",
       "      <td>390.0</td>\n",
       "      <td>369.0</td>\n",
       "      <td>395.0</td>\n",
       "      <td>14.0</td>\n",
       "    </tr>\n",
       "  </tbody>\n",
       "</table>\n",
       "</div>"
      ],
      "text/plain": [
       "        Dates  P_crimines  lang_1  lang_2  lang_3  lang_4  avg_temp\n",
       "0  2014-01-06         393   390.0   390.0   390.0   390.0      11.0\n",
       "1  2014-01-07         376   393.0   390.0   390.0   390.0      12.0\n",
       "2  2014-01-08         430   376.0   393.0   390.0   390.0      13.0\n",
       "3  2014-01-09         392   430.0   376.0   393.0   390.0      13.0\n",
       "4  2014-01-10         465   392.0   430.0   376.0   393.0      12.0\n",
       "5  2014-01-11         395   465.0   392.0   430.0   376.0      11.0\n",
       "6  2014-01-12         369   395.0   465.0   392.0   430.0      12.0\n",
       "7  2014-01-13         380   369.0   395.0   465.0   392.0      14.0\n",
       "8  2014-01-14         380   390.0   369.0   395.0   465.0      14.0\n",
       "9  2014-01-15         380   390.0   390.0   369.0   395.0      14.0"
      ]
     },
     "execution_count": 10,
     "metadata": {},
     "output_type": "execute_result"
    }
   ],
   "source": [
    "data.head(10)"
   ]
  },
  {
   "cell_type": "markdown",
   "metadata": {},
   "source": [
    "## **Regresión lineal para una variable**"
   ]
  },
  {
   "cell_type": "code",
   "execution_count": 11,
   "metadata": {},
   "outputs": [],
   "source": [
    "pred = dict(zip(data.P_crimines.unique(),data.lang_1.unique()))"
   ]
  },
  {
   "cell_type": "code",
   "execution_count": 12,
   "metadata": {},
   "outputs": [],
   "source": [
    "from sklearn import datasets, linear_model\n",
    "from sklearn.metrics import r2_score\n",
    "regr = linear_model.LinearRegression()"
   ]
  },
  {
   "cell_type": "code",
   "execution_count": 13,
   "metadata": {},
   "outputs": [],
   "source": [
    "df = pd.DataFrame(data)"
   ]
  },
  {
   "cell_type": "code",
   "execution_count": 14,
   "metadata": {},
   "outputs": [],
   "source": [
    "x = df['avg_temp']#indep\n",
    "y = df['P_crimines']#dep"
   ]
  },
  {
   "cell_type": "code",
   "execution_count": 15,
   "metadata": {},
   "outputs": [
    {
     "name": "stdout",
     "output_type": "stream",
     "text": [
      "[[11.]\n",
      " [12.]\n",
      " [13.]\n",
      " [13.]\n",
      " [12.]\n",
      " [11.]\n",
      " [12.]\n",
      " [14.]\n",
      " [14.]\n",
      " [14.]\n",
      " [14.]\n",
      " [14.]\n",
      " [14.]\n",
      " [14.]\n",
      " [13.]\n",
      " [13.]\n",
      " [13.]\n",
      " [14.]\n",
      " [13.]\n",
      " [14.]\n",
      " [14.]\n",
      " [14.]\n",
      " [14.]\n",
      " [14.]\n",
      " [14.]\n",
      " [14.]\n",
      " [14.]\n",
      " [14.]\n",
      " [11.]\n",
      " [10.]\n",
      " [ 9.]\n",
      " [10.]\n",
      " [12.]\n",
      " [13.]\n",
      " [14.]\n",
      " [14.]\n",
      " [14.]\n",
      " [14.]\n",
      " [14.]\n",
      " [14.]\n",
      " [14.]\n",
      " [14.]\n",
      " [12.]\n",
      " [13.]\n",
      " [14.]\n",
      " [13.]\n",
      " [14.]\n",
      " [13.]\n",
      " [13.]\n",
      " [14.]\n",
      " [14.]\n",
      " [14.]\n",
      " [14.]\n",
      " [14.]\n",
      " [14.]\n",
      " [14.]\n",
      " [13.]\n",
      " [14.]\n",
      " [17.]\n",
      " [15.]\n",
      " [14.]\n",
      " [14.]\n",
      " [18.]\n",
      " [14.]\n",
      " [14.]\n",
      " [14.]\n",
      " [14.]\n",
      " [14.]\n",
      " [14.]\n",
      " [14.]\n",
      " [15.]\n",
      " [16.]\n",
      " [16.]\n",
      " [16.]\n",
      " [14.]\n",
      " [13.]\n",
      " [14.]\n",
      " [14.]\n",
      " [14.]\n",
      " [14.]\n",
      " [14.]\n",
      " [14.]\n",
      " [14.]\n",
      " [14.]\n",
      " [12.]\n",
      " [12.]\n",
      " [12.]\n",
      " [14.]\n",
      " [13.]\n",
      " [14.]\n",
      " [17.]\n",
      " [14.]\n",
      " [14.]\n",
      " [14.]\n",
      " [14.]\n",
      " [14.]\n",
      " [14.]\n",
      " [14.]\n",
      " [16.]\n",
      " [15.]\n",
      " [17.]\n",
      " [15.]\n",
      " [14.]\n",
      " [14.]\n",
      " [18.]\n",
      " [14.]\n",
      " [14.]\n",
      " [14.]\n",
      " [14.]\n",
      " [14.]\n",
      " [14.]\n",
      " [14.]\n",
      " [16.]\n",
      " [21.]\n",
      " [24.]\n",
      " [23.]\n",
      " [18.]\n",
      " [16.]\n",
      " [17.]\n",
      " [14.]\n",
      " [14.]\n",
      " [14.]\n",
      " [14.]\n",
      " [14.]\n",
      " [14.]\n",
      " [14.]\n",
      " [20.]\n",
      " [24.]\n",
      " [25.]\n",
      " [22.]\n",
      " [18.]\n",
      " [17.]\n",
      " [17.]\n",
      " [14.]\n",
      " [14.]\n",
      " [14.]\n",
      " [14.]\n",
      " [14.]\n",
      " [14.]\n",
      " [14.]\n",
      " [18.]\n",
      " [16.]\n",
      " [17.]\n",
      " [19.]\n",
      " [15.]\n",
      " [16.]\n",
      " [17.]\n",
      " [14.]\n",
      " [14.]\n",
      " [14.]\n",
      " [14.]\n",
      " [14.]\n",
      " [14.]\n",
      " [14.]\n",
      " [20.]\n",
      " [19.]\n",
      " [18.]\n",
      " [17.]\n",
      " [18.]\n",
      " [21.]\n",
      " [17.]\n",
      " [14.]\n",
      " [14.]\n",
      " [14.]\n",
      " [14.]\n",
      " [14.]\n",
      " [14.]\n",
      " [14.]\n",
      " [18.]\n",
      " [17.]\n",
      " [18.]\n",
      " [18.]\n",
      " [19.]\n",
      " [19.]\n",
      " [21.]\n",
      " [14.]\n",
      " [14.]\n",
      " [14.]\n",
      " [14.]\n",
      " [14.]\n",
      " [14.]\n",
      " [14.]\n",
      " [17.]\n",
      " [19.]\n",
      " [19.]\n",
      " [20.]\n",
      " [19.]\n",
      " [17.]\n",
      " [16.]\n",
      " [14.]\n",
      " [14.]\n",
      " [14.]\n",
      " [14.]\n",
      " [14.]\n",
      " [14.]\n",
      " [14.]\n",
      " [22.]\n",
      " [22.]\n",
      " [21.]\n",
      " [22.]\n",
      " [24.]\n",
      " [21.]\n",
      " [21.]\n",
      " [14.]\n",
      " [14.]\n",
      " [14.]\n",
      " [14.]\n",
      " [14.]\n",
      " [14.]\n",
      " [14.]\n",
      " [20.]\n",
      " [20.]\n",
      " [21.]\n",
      " [18.]\n",
      " [19.]\n",
      " [18.]\n",
      " [21.]\n",
      " [14.]\n",
      " [14.]\n",
      " [14.]\n",
      " [14.]\n",
      " [14.]\n",
      " [14.]\n",
      " [14.]\n",
      " [18.]\n",
      " [20.]\n",
      " [20.]\n",
      " [20.]\n",
      " [20.]\n",
      " [19.]\n",
      " [19.]\n",
      " [14.]\n",
      " [14.]\n",
      " [14.]\n",
      " [14.]\n",
      " [14.]\n",
      " [14.]\n",
      " [14.]\n",
      " [22.]\n",
      " [19.]\n",
      " [20.]\n",
      " [20.]\n",
      " [20.]\n",
      " [19.]\n",
      " [18.]\n",
      " [14.]\n",
      " [14.]\n",
      " [14.]\n",
      " [14.]\n",
      " [14.]\n",
      " [14.]\n",
      " [14.]\n",
      " [21.]\n",
      " [22.]\n",
      " [22.]\n",
      " [22.]\n",
      " [21.]\n",
      " [22.]\n",
      " [21.]\n",
      " [14.]\n",
      " [14.]\n",
      " [14.]\n",
      " [14.]\n",
      " [14.]\n",
      " [14.]\n",
      " [14.]\n",
      " [19.]\n",
      " [21.]\n",
      " [23.]\n",
      " [24.]\n",
      " [27.]\n",
      " [26.]\n",
      " [23.]\n",
      " [14.]\n",
      " [14.]\n",
      " [14.]\n",
      " [14.]\n",
      " [14.]\n",
      " [14.]\n",
      " [14.]\n",
      " [24.]\n",
      " [21.]\n",
      " [21.]\n",
      " [19.]\n",
      " [19.]\n",
      " [22.]\n",
      " [20.]\n",
      " [14.]\n",
      " [14.]\n",
      " [14.]\n",
      " [14.]\n",
      " [14.]\n",
      " [14.]\n",
      " [14.]\n",
      " [17.]\n",
      " [17.]\n",
      " [22.]\n",
      " [19.]\n",
      " [16.]\n",
      " [16.]\n",
      " [14.]\n",
      " [14.]\n",
      " [14.]\n",
      " [14.]\n",
      " [14.]\n",
      " [14.]\n",
      " [14.]\n",
      " [14.]\n",
      " [16.]\n",
      " [16.]\n",
      " [17.]\n",
      " [17.]\n",
      " [16.]\n",
      " [16.]\n",
      " [16.]\n",
      " [14.]\n",
      " [14.]\n",
      " [14.]\n",
      " [14.]\n",
      " [14.]\n",
      " [14.]\n",
      " [14.]\n",
      " [14.]\n",
      " [14.]\n",
      " [15.]\n",
      " [14.]\n",
      " [13.]\n",
      " [16.]\n",
      " [14.]\n",
      " [14.]\n",
      " [14.]\n",
      " [14.]\n",
      " [14.]\n",
      " [14.]\n",
      " [14.]\n",
      " [14.]\n",
      " [17.]\n",
      " [16.]\n",
      " [17.]\n",
      " [15.]\n",
      " [13.]\n",
      " [11.]\n",
      " [13.]\n",
      " [14.]\n",
      " [14.]\n",
      " [14.]\n",
      " [14.]\n",
      " [14.]\n",
      " [14.]\n",
      " [14.]\n",
      " [16.]\n",
      " [16.]\n",
      " [13.]\n",
      " [11.]\n",
      " [11.]\n",
      " [ 9.]\n",
      " [10.]]\n"
     ]
    },
    {
     "name": "stderr",
     "output_type": "stream",
     "text": [
      "<ipython-input-15-fe5416741d13>:1: FutureWarning: Support for multi-dimensional indexing (e.g. `obj[:, None]`) is deprecated and will be removed in a future version.  Convert to a numpy array before indexing instead.\n",
      "  X = x[:, np.newaxis]\n"
     ]
    }
   ],
   "source": [
    "X = x[:, np.newaxis]\n",
    "print(X)"
   ]
  },
  {
   "cell_type": "code",
   "execution_count": 16,
   "metadata": {},
   "outputs": [
    {
     "name": "stdout",
     "output_type": "stream",
     "text": [
      "LinearRegression()\n",
      "[4.35554943]\n",
      "y = 4.355549431200527*x+328.1005619095739\n"
     ]
    }
   ],
   "source": [
    "# Es el modelo o la prediccion \n",
    "print(regr.fit(X,y))\n",
    "#Imprimir el coeficiente de regrecion lineal\n",
    "print(regr.coef_)\n",
    "#Formato\n",
    "m = regr.coef_[0]\n",
    "b = regr.intercept_\n",
    "y_p = m*X+b\n",
    "print('y = {0}*x+{1}'.format(m,b))\n",
    "# Este es el modelo de regresion "
   ]
  },
  {
   "cell_type": "code",
   "execution_count": 17,
   "metadata": {
    "scrolled": true
   },
   "outputs": [
    {
     "name": "stdout",
     "output_type": "stream",
     "text": [
      "[[11.]\n",
      " [12.]\n",
      " [13.]\n",
      " [13.]\n",
      " [12.]]\n",
      "[376.01160565 380.36715508 384.72270452 384.72270452 380.36715508]\n",
      "El valor de r2 :  0.16417591431988077\n"
     ]
    }
   ],
   "source": [
    "print(X[0:5])\n",
    "print(regr.predict(X)[0:5])\n",
    "print('El valor de r2 : ',r2_score(y,y_p))\n",
    "\n"
   ]
  },
  {
   "cell_type": "code",
   "execution_count": 18,
   "metadata": {},
   "outputs": [
    {
     "data": {
      "image/png": "[encoded data removed]",
      "text/plain": [
       "<Figure size 432x288 with 1 Axes>"
      ]
     },
     "metadata": {
      "needs_background": "light"
     },
     "output_type": "display_data"
    }
   ],
   "source": [
    "plt.scatter(x,y,color ='blue')\n",
    "plt.plot(x,y_p,color = 'red')\n",
    "plt.title('Regresion lineal',fontsize=16)\n",
    "plt.xlabel('avg_temp',fontsize=13)\n",
    "plt.ylabel('P_crimines',fontsize=1);"
   ]
  },
  {
   "cell_type": "markdown",
   "metadata": {},
   "source": [
    "## **Regresion Lineal Multivariable**"
   ]
  },
  {
   "cell_type": "code",
   "execution_count": 19,
   "metadata": {},
   "outputs": [],
   "source": [
    "from sklearn.model_selection import train_test_split\n",
    "# ML\n",
    "from sklearn.neighbors import KNeighborsRegressor"
   ]
  },
  {
   "cell_type": "code",
   "execution_count": 20,
   "metadata": {},
   "outputs": [
    {
     "name": "stdout",
     "output_type": "stream",
     "text": [
      "Index(['Dates', 'P_crimines', 'lang_1', 'lang_2', 'lang_3', 'lang_4',\n",
      "       'avg_temp'],\n",
      "      dtype='object')\n"
     ]
    }
   ],
   "source": [
    "#Para saber que tipo de informacíon contiene le introducimos keys\n",
    "print(data.keys())"
   ]
  },
  {
   "cell_type": "code",
   "execution_count": 21,
   "metadata": {},
   "outputs": [
    {
     "name": "stdout",
     "output_type": "stream",
     "text": [
      "     lang_1  lang_2  lang_3  lang_4  avg_temp\n",
      "0     390.0   390.0   390.0   390.0      11.0\n",
      "1     393.0   390.0   390.0   390.0      12.0\n",
      "2     376.0   393.0   390.0   390.0      13.0\n",
      "3     430.0   376.0   393.0   390.0      13.0\n",
      "4     392.0   430.0   376.0   393.0      12.0\n",
      "..      ...     ...     ...     ...       ...\n",
      "352   426.0   440.0   390.0   390.0      13.0\n",
      "353   370.0   426.0   440.0   390.0      11.0\n",
      "354   257.0   370.0   426.0   440.0      11.0\n",
      "355   409.0   257.0   370.0   426.0       9.0\n",
      "356   376.0   409.0   257.0   370.0      10.0\n",
      "\n",
      "[357 rows x 5 columns]\n"
     ]
    }
   ],
   "source": [
    "X_multiple = data.iloc[:, 2:7] # Última columna\n",
    "print(X_multiple)"
   ]
  },
  {
   "cell_type": "code",
   "execution_count": 22,
   "metadata": {},
   "outputs": [
    {
     "name": "stdout",
     "output_type": "stream",
     "text": [
      "0      393\n",
      "1      376\n",
      "2      430\n",
      "3      392\n",
      "4      465\n",
      "      ... \n",
      "352    370\n",
      "353    257\n",
      "354    409\n",
      "355    376\n",
      "356    361\n",
      "Name: P_crimines, Length: 357, dtype: int64\n"
     ]
    }
   ],
   "source": [
    "Y_multiple = data.P_crimines\n",
    "print(Y_multiple)"
   ]
  },
  {
   "cell_type": "code",
   "execution_count": 23,
   "metadata": {},
   "outputs": [],
   "source": [
    "tscv = TimeSeriesSplit()\n",
    "\n",
    "TimeSeriesSplit(max_train_size=None, n_splits=5)\n",
    " for train_index, test_index in tscv.split(X):\n",
    "        print(\"TRAIN:\", train_index, \"TEST:\", test_index)\n",
    "        X_train, X_test = X[train_index], X[test_index]\n",
    "        y_train, y_test = y[train_index], y[test_index]\n",
    "X_train, X_test, Y_train, Y_test = train_test_split(X_multiple, Y_multiple, test_size=0.2)"
   ]
  },
  {
   "cell_type": "code",
   "execution_count": 24,
   "metadata": {},
   "outputs": [],
   "source": [
    "#Algoritmo a utilizar\n",
    "lr =  LinearRegression()"
   ]
  },
  {
   "cell_type": "code",
   "execution_count": 25,
   "metadata": {},
   "outputs": [
    {
     "data": {
      "text/plain": [
       "LinearRegression()"
      ]
     },
     "execution_count": 25,
     "metadata": {},
     "output_type": "execute_result"
    }
   ],
   "source": [
    "#Entrenamiento\n",
    "lr.fit(X_train, Y_train)"
   ]
  },
  {
   "cell_type": "code",
   "execution_count": 26,
   "metadata": {},
   "outputs": [],
   "source": [
    "#Predicción \n",
    "y_pred_lr = lr.predict(X_test)"
   ]
  },
  {
   "cell_type": "code",
   "execution_count": 27,
   "metadata": {},
   "outputs": [
    {
     "name": "stdout",
     "output_type": "stream",
     "text": [
      "[ 0.17873055  0.06821489  0.02074791 -0.08718074  3.33431029]\n"
     ]
    }
   ],
   "source": [
    "#Imprimir el coeficiente de regrecion lineal\n",
    "# Son los valores para nuestra ecuacion son tres valores pues son tres columnas y sería nuesro valor a \n",
    "print(lr.coef_)"
   ]
  },
  {
   "cell_type": "code",
   "execution_count": 28,
   "metadata": {},
   "outputs": [
    {
     "name": "stdout",
     "output_type": "stream",
     "text": [
      "272.5245020135738\n"
     ]
    }
   ],
   "source": [
    "#Para nuestro valor b \n",
    "print(lr.intercept_)"
   ]
  },
  {
   "cell_type": "code",
   "execution_count": 29,
   "metadata": {},
   "outputs": [],
   "source": [
    "from sklearn.metrics import (r2_score, mean_squared_error, mean_absolute_error)"
   ]
  },
  {
   "cell_type": "code",
   "execution_count": 30,
   "metadata": {},
   "outputs": [
    {
     "name": "stdout",
     "output_type": "stream",
     "text": [
      "Linear Regression r**2  0.313\n"
     ]
    }
   ],
   "source": [
    "print('Linear Regression r**2 % 1.3f' % r2_score(Y_test,y_pred_lr))"
   ]
  },
  {
   "cell_type": "code",
   "execution_count": 31,
   "metadata": {},
   "outputs": [
    {
     "name": "stdout",
     "output_type": "stream",
     "text": [
      "Linear Regression RMSE  27.958\n"
     ]
    }
   ],
   "source": [
    "print('Linear Regression RMSE % 1.3f' %mean_squared_error(Y_test,y_pred_lr, squared=False))"
   ]
  },
  {
   "cell_type": "code",
   "execution_count": 32,
   "metadata": {},
   "outputs": [
    {
     "name": "stdout",
     "output_type": "stream",
     "text": [
      "Residuo promedio 19.276\n"
     ]
    }
   ],
   "source": [
    "print (\"Residuo promedio %.3f\" % (abs((Y_test-y_pred_lr)).mean()))"
   ]
  },
  {
   "cell_type": "code",
   "execution_count": 33,
   "metadata": {},
   "outputs": [
    {
     "name": "stdout",
     "output_type": "stream",
     "text": [
      "0.1932171135834958\n"
     ]
    }
   ],
   "source": [
    "#Para la precisión de nuestro algoritmo \n",
    "#Como nos damos cuenta nuestro valor no es muy bueno pues se aleja mucho de 1\n",
    "print(lr.score(X_train, Y_train))"
   ]
  },
  {
   "cell_type": "code",
   "execution_count": null,
   "metadata": {},
   "outputs": [],
   "source": [
    "#La variable de mayor peso es la temperatura por eso tiene una coeficiente mayor\n",
    "#el primer lag es de mayor peso con lag1 y temperatura\n",
    "#"
   ]
  }
 ],
 "metadata": {
  "kernelspec": {
   "display_name": "Python 3",
   "language": "python",
   "name": "python3"
  },
  "language_info": {
   "codemirror_mode": {
    "name": "ipython",
    "version": 3
   },
   "file_extension": ".py",
   "mimetype": "text/x-python",
   "name": "python",
   "nbconvert_exporter": "python",
   "pygments_lexer": "ipython3",
   "version": "3.8.3"
  }
 },
 "nbformat": 4,
 "nbformat_minor": 4
}
