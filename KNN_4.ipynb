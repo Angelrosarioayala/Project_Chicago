{
 "cells": [
  {
   "cell_type": "code",
   "execution_count": 22,
   "metadata": {},
   "outputs": [],
   "source": [
    "%matplotlib inline\n",
    "import pandas as pd\n",
    "import numpy as np\n",
    "import matplotlib.pyplot as plt\n",
    "import seaborn as sns\n",
    "# Preporcesamiento\n",
    "from sklearn.model_selection import train_test_split\n",
    "# ML\n",
    "from sklearn.neighbors import KNeighborsRegressor"
   ]
  },
  {
   "cell_type": "code",
   "execution_count": 23,
   "metadata": {},
   "outputs": [],
   "source": [
    "data = pd.read_csv('table_reg.csv')"
   ]
  },
  {
   "cell_type": "code",
   "execution_count": 24,
   "metadata": {},
   "outputs": [],
   "source": [
    "data['lang_1'].fillna(data['lang_1'].mode()[0],inplace = True)"
   ]
  },
  {
   "cell_type": "code",
   "execution_count": 25,
   "metadata": {},
   "outputs": [],
   "source": [
    "data['lang_2'].fillna(data['lang_2'].mode()[0],inplace = True)"
   ]
  },
  {
   "cell_type": "code",
   "execution_count": 26,
   "metadata": {},
   "outputs": [],
   "source": [
    "data['lang_3'].fillna(data['lang_3'].mode()[0],inplace = True)"
   ]
  },
  {
   "cell_type": "code",
   "execution_count": 27,
   "metadata": {},
   "outputs": [],
   "source": [
    "data['lang_4'].fillna(data['lang_4'].mode()[0],inplace = True)"
   ]
  },
  {
   "cell_type": "code",
   "execution_count": 28,
   "metadata": {},
   "outputs": [],
   "source": [
    "data['avg_temp'].fillna(data['avg_temp'].mode()[0],inplace = True)"
   ]
  },
  {
   "cell_type": "code",
   "execution_count": 29,
   "metadata": {},
   "outputs": [
    {
     "name": "stderr",
     "output_type": "stream",
     "text": [
      "<ipython-input-29-4987a7acbbe1>:1: SettingWithCopyWarning: \n",
      "A value is trying to be set on a copy of a slice from a DataFrame\n",
      "\n",
      "See the caveats in the documentation: https://pandas.pydata.org/pandas-docs/stable/user_guide/indexing.html#returning-a-view-versus-a-copy\n",
      "  data.P_crimines[data.P_crimines == 0] = 380\n",
      "<ipython-input-29-4987a7acbbe1>:2: SettingWithCopyWarning: \n",
      "A value is trying to be set on a copy of a slice from a DataFrame\n",
      "\n",
      "See the caveats in the documentation: https://pandas.pydata.org/pandas-docs/stable/user_guide/indexing.html#returning-a-view-versus-a-copy\n",
      "  data.lang_1[data.lang_1 == 0] = 390\n",
      "<ipython-input-29-4987a7acbbe1>:3: SettingWithCopyWarning: \n",
      "A value is trying to be set on a copy of a slice from a DataFrame\n",
      "\n",
      "See the caveats in the documentation: https://pandas.pydata.org/pandas-docs/stable/user_guide/indexing.html#returning-a-view-versus-a-copy\n",
      "  data.lang_2[data.lang_2 == 0] = 390\n",
      "<ipython-input-29-4987a7acbbe1>:4: SettingWithCopyWarning: \n",
      "A value is trying to be set on a copy of a slice from a DataFrame\n",
      "\n",
      "See the caveats in the documentation: https://pandas.pydata.org/pandas-docs/stable/user_guide/indexing.html#returning-a-view-versus-a-copy\n",
      "  data.lang_3[data.lang_3 == 0] = 390\n",
      "<ipython-input-29-4987a7acbbe1>:5: SettingWithCopyWarning: \n",
      "A value is trying to be set on a copy of a slice from a DataFrame\n",
      "\n",
      "See the caveats in the documentation: https://pandas.pydata.org/pandas-docs/stable/user_guide/indexing.html#returning-a-view-versus-a-copy\n",
      "  data.lang_4[data.lang_4 == 0] = 390\n"
     ]
    }
   ],
   "source": [
    "data.P_crimines[data.P_crimines == 0] = 380\n",
    "data.lang_1[data.lang_1 == 0] = 390\n",
    "data.lang_2[data.lang_2 == 0] = 390\n",
    "data.lang_3[data.lang_3 == 0] = 390\n",
    "data.lang_4[data.lang_4 == 0] = 390\n",
    "\n"
   ]
  },
  {
   "cell_type": "code",
   "execution_count": 30,
   "metadata": {},
   "outputs": [
    {
     "data": {
      "text/html": [
       "<div>\n",
       "<style scoped>\n",
       "    .dataframe tbody tr th:only-of-type {\n",
       "        vertical-align: middle;\n",
       "    }\n",
       "\n",
       "    .dataframe tbody tr th {\n",
       "        vertical-align: top;\n",
       "    }\n",
       "\n",
       "    .dataframe thead th {\n",
       "        text-align: right;\n",
       "    }\n",
       "</style>\n",
       "<table border=\"1\" class=\"dataframe\">\n",
       "  <thead>\n",
       "    <tr style=\"text-align: right;\">\n",
       "      <th></th>\n",
       "      <th>Dates</th>\n",
       "      <th>P_crimines</th>\n",
       "      <th>lang_1</th>\n",
       "      <th>lang_2</th>\n",
       "      <th>lang_3</th>\n",
       "      <th>lang_4</th>\n",
       "      <th>avg_temp</th>\n",
       "    </tr>\n",
       "  </thead>\n",
       "  <tbody>\n",
       "    <tr>\n",
       "      <th>0</th>\n",
       "      <td>2014-01-06</td>\n",
       "      <td>393</td>\n",
       "      <td>390.0</td>\n",
       "      <td>390.0</td>\n",
       "      <td>390.0</td>\n",
       "      <td>390.0</td>\n",
       "      <td>11.0</td>\n",
       "    </tr>\n",
       "    <tr>\n",
       "      <th>1</th>\n",
       "      <td>2014-01-07</td>\n",
       "      <td>376</td>\n",
       "      <td>393.0</td>\n",
       "      <td>390.0</td>\n",
       "      <td>390.0</td>\n",
       "      <td>390.0</td>\n",
       "      <td>12.0</td>\n",
       "    </tr>\n",
       "    <tr>\n",
       "      <th>2</th>\n",
       "      <td>2014-01-08</td>\n",
       "      <td>430</td>\n",
       "      <td>376.0</td>\n",
       "      <td>393.0</td>\n",
       "      <td>390.0</td>\n",
       "      <td>390.0</td>\n",
       "      <td>13.0</td>\n",
       "    </tr>\n",
       "    <tr>\n",
       "      <th>3</th>\n",
       "      <td>2014-01-09</td>\n",
       "      <td>392</td>\n",
       "      <td>430.0</td>\n",
       "      <td>376.0</td>\n",
       "      <td>393.0</td>\n",
       "      <td>390.0</td>\n",
       "      <td>13.0</td>\n",
       "    </tr>\n",
       "    <tr>\n",
       "      <th>4</th>\n",
       "      <td>2014-01-10</td>\n",
       "      <td>465</td>\n",
       "      <td>392.0</td>\n",
       "      <td>430.0</td>\n",
       "      <td>376.0</td>\n",
       "      <td>393.0</td>\n",
       "      <td>12.0</td>\n",
       "    </tr>\n",
       "    <tr>\n",
       "      <th>5</th>\n",
       "      <td>2014-01-11</td>\n",
       "      <td>395</td>\n",
       "      <td>465.0</td>\n",
       "      <td>392.0</td>\n",
       "      <td>430.0</td>\n",
       "      <td>376.0</td>\n",
       "      <td>11.0</td>\n",
       "    </tr>\n",
       "    <tr>\n",
       "      <th>6</th>\n",
       "      <td>2014-01-12</td>\n",
       "      <td>369</td>\n",
       "      <td>395.0</td>\n",
       "      <td>465.0</td>\n",
       "      <td>392.0</td>\n",
       "      <td>430.0</td>\n",
       "      <td>12.0</td>\n",
       "    </tr>\n",
       "    <tr>\n",
       "      <th>7</th>\n",
       "      <td>2014-01-13</td>\n",
       "      <td>380</td>\n",
       "      <td>369.0</td>\n",
       "      <td>395.0</td>\n",
       "      <td>465.0</td>\n",
       "      <td>392.0</td>\n",
       "      <td>14.0</td>\n",
       "    </tr>\n",
       "    <tr>\n",
       "      <th>8</th>\n",
       "      <td>2014-01-14</td>\n",
       "      <td>380</td>\n",
       "      <td>390.0</td>\n",
       "      <td>369.0</td>\n",
       "      <td>395.0</td>\n",
       "      <td>465.0</td>\n",
       "      <td>14.0</td>\n",
       "    </tr>\n",
       "    <tr>\n",
       "      <th>9</th>\n",
       "      <td>2014-01-15</td>\n",
       "      <td>380</td>\n",
       "      <td>390.0</td>\n",
       "      <td>390.0</td>\n",
       "      <td>369.0</td>\n",
       "      <td>395.0</td>\n",
       "      <td>14.0</td>\n",
       "    </tr>\n",
       "    <tr>\n",
       "      <th>10</th>\n",
       "      <td>2014-01-16</td>\n",
       "      <td>380</td>\n",
       "      <td>390.0</td>\n",
       "      <td>390.0</td>\n",
       "      <td>390.0</td>\n",
       "      <td>369.0</td>\n",
       "      <td>14.0</td>\n",
       "    </tr>\n",
       "    <tr>\n",
       "      <th>11</th>\n",
       "      <td>2014-01-17</td>\n",
       "      <td>380</td>\n",
       "      <td>390.0</td>\n",
       "      <td>390.0</td>\n",
       "      <td>390.0</td>\n",
       "      <td>390.0</td>\n",
       "      <td>14.0</td>\n",
       "    </tr>\n",
       "    <tr>\n",
       "      <th>12</th>\n",
       "      <td>2014-01-18</td>\n",
       "      <td>380</td>\n",
       "      <td>390.0</td>\n",
       "      <td>390.0</td>\n",
       "      <td>390.0</td>\n",
       "      <td>390.0</td>\n",
       "      <td>14.0</td>\n",
       "    </tr>\n",
       "    <tr>\n",
       "      <th>13</th>\n",
       "      <td>2014-01-19</td>\n",
       "      <td>380</td>\n",
       "      <td>390.0</td>\n",
       "      <td>390.0</td>\n",
       "      <td>390.0</td>\n",
       "      <td>390.0</td>\n",
       "      <td>14.0</td>\n",
       "    </tr>\n",
       "    <tr>\n",
       "      <th>14</th>\n",
       "      <td>2014-01-20</td>\n",
       "      <td>391</td>\n",
       "      <td>390.0</td>\n",
       "      <td>390.0</td>\n",
       "      <td>390.0</td>\n",
       "      <td>390.0</td>\n",
       "      <td>13.0</td>\n",
       "    </tr>\n",
       "    <tr>\n",
       "      <th>15</th>\n",
       "      <td>2014-01-21</td>\n",
       "      <td>380</td>\n",
       "      <td>391.0</td>\n",
       "      <td>390.0</td>\n",
       "      <td>390.0</td>\n",
       "      <td>390.0</td>\n",
       "      <td>13.0</td>\n",
       "    </tr>\n",
       "    <tr>\n",
       "      <th>16</th>\n",
       "      <td>2014-01-22</td>\n",
       "      <td>420</td>\n",
       "      <td>380.0</td>\n",
       "      <td>391.0</td>\n",
       "      <td>390.0</td>\n",
       "      <td>390.0</td>\n",
       "      <td>13.0</td>\n",
       "    </tr>\n",
       "    <tr>\n",
       "      <th>17</th>\n",
       "      <td>2014-01-23</td>\n",
       "      <td>426</td>\n",
       "      <td>420.0</td>\n",
       "      <td>380.0</td>\n",
       "      <td>391.0</td>\n",
       "      <td>390.0</td>\n",
       "      <td>14.0</td>\n",
       "    </tr>\n",
       "    <tr>\n",
       "      <th>18</th>\n",
       "      <td>2014-01-24</td>\n",
       "      <td>473</td>\n",
       "      <td>426.0</td>\n",
       "      <td>420.0</td>\n",
       "      <td>380.0</td>\n",
       "      <td>391.0</td>\n",
       "      <td>13.0</td>\n",
       "    </tr>\n",
       "    <tr>\n",
       "      <th>19</th>\n",
       "      <td>2014-01-25</td>\n",
       "      <td>465</td>\n",
       "      <td>473.0</td>\n",
       "      <td>426.0</td>\n",
       "      <td>420.0</td>\n",
       "      <td>380.0</td>\n",
       "      <td>14.0</td>\n",
       "    </tr>\n",
       "    <tr>\n",
       "      <th>20</th>\n",
       "      <td>2014-01-26</td>\n",
       "      <td>405</td>\n",
       "      <td>465.0</td>\n",
       "      <td>473.0</td>\n",
       "      <td>426.0</td>\n",
       "      <td>420.0</td>\n",
       "      <td>14.0</td>\n",
       "    </tr>\n",
       "    <tr>\n",
       "      <th>21</th>\n",
       "      <td>2014-01-27</td>\n",
       "      <td>380</td>\n",
       "      <td>405.0</td>\n",
       "      <td>465.0</td>\n",
       "      <td>473.0</td>\n",
       "      <td>426.0</td>\n",
       "      <td>14.0</td>\n",
       "    </tr>\n",
       "    <tr>\n",
       "      <th>22</th>\n",
       "      <td>2014-01-28</td>\n",
       "      <td>380</td>\n",
       "      <td>390.0</td>\n",
       "      <td>405.0</td>\n",
       "      <td>465.0</td>\n",
       "      <td>473.0</td>\n",
       "      <td>14.0</td>\n",
       "    </tr>\n",
       "    <tr>\n",
       "      <th>23</th>\n",
       "      <td>2014-01-29</td>\n",
       "      <td>380</td>\n",
       "      <td>390.0</td>\n",
       "      <td>390.0</td>\n",
       "      <td>405.0</td>\n",
       "      <td>465.0</td>\n",
       "      <td>14.0</td>\n",
       "    </tr>\n",
       "    <tr>\n",
       "      <th>24</th>\n",
       "      <td>2014-01-30</td>\n",
       "      <td>380</td>\n",
       "      <td>390.0</td>\n",
       "      <td>390.0</td>\n",
       "      <td>390.0</td>\n",
       "      <td>405.0</td>\n",
       "      <td>14.0</td>\n",
       "    </tr>\n",
       "    <tr>\n",
       "      <th>25</th>\n",
       "      <td>2014-01-31</td>\n",
       "      <td>380</td>\n",
       "      <td>390.0</td>\n",
       "      <td>390.0</td>\n",
       "      <td>390.0</td>\n",
       "      <td>390.0</td>\n",
       "      <td>14.0</td>\n",
       "    </tr>\n",
       "    <tr>\n",
       "      <th>26</th>\n",
       "      <td>2014-02-01</td>\n",
       "      <td>380</td>\n",
       "      <td>390.0</td>\n",
       "      <td>390.0</td>\n",
       "      <td>390.0</td>\n",
       "      <td>390.0</td>\n",
       "      <td>14.0</td>\n",
       "    </tr>\n",
       "    <tr>\n",
       "      <th>27</th>\n",
       "      <td>2014-02-02</td>\n",
       "      <td>380</td>\n",
       "      <td>390.0</td>\n",
       "      <td>390.0</td>\n",
       "      <td>390.0</td>\n",
       "      <td>390.0</td>\n",
       "      <td>14.0</td>\n",
       "    </tr>\n",
       "    <tr>\n",
       "      <th>28</th>\n",
       "      <td>2014-02-03</td>\n",
       "      <td>393</td>\n",
       "      <td>390.0</td>\n",
       "      <td>390.0</td>\n",
       "      <td>390.0</td>\n",
       "      <td>390.0</td>\n",
       "      <td>11.0</td>\n",
       "    </tr>\n",
       "    <tr>\n",
       "      <th>29</th>\n",
       "      <td>2014-02-04</td>\n",
       "      <td>397</td>\n",
       "      <td>393.0</td>\n",
       "      <td>390.0</td>\n",
       "      <td>390.0</td>\n",
       "      <td>390.0</td>\n",
       "      <td>10.0</td>\n",
       "    </tr>\n",
       "  </tbody>\n",
       "</table>\n",
       "</div>"
      ],
      "text/plain": [
       "         Dates  P_crimines  lang_1  lang_2  lang_3  lang_4  avg_temp\n",
       "0   2014-01-06         393   390.0   390.0   390.0   390.0      11.0\n",
       "1   2014-01-07         376   393.0   390.0   390.0   390.0      12.0\n",
       "2   2014-01-08         430   376.0   393.0   390.0   390.0      13.0\n",
       "3   2014-01-09         392   430.0   376.0   393.0   390.0      13.0\n",
       "4   2014-01-10         465   392.0   430.0   376.0   393.0      12.0\n",
       "5   2014-01-11         395   465.0   392.0   430.0   376.0      11.0\n",
       "6   2014-01-12         369   395.0   465.0   392.0   430.0      12.0\n",
       "7   2014-01-13         380   369.0   395.0   465.0   392.0      14.0\n",
       "8   2014-01-14         380   390.0   369.0   395.0   465.0      14.0\n",
       "9   2014-01-15         380   390.0   390.0   369.0   395.0      14.0\n",
       "10  2014-01-16         380   390.0   390.0   390.0   369.0      14.0\n",
       "11  2014-01-17         380   390.0   390.0   390.0   390.0      14.0\n",
       "12  2014-01-18         380   390.0   390.0   390.0   390.0      14.0\n",
       "13  2014-01-19         380   390.0   390.0   390.0   390.0      14.0\n",
       "14  2014-01-20         391   390.0   390.0   390.0   390.0      13.0\n",
       "15  2014-01-21         380   391.0   390.0   390.0   390.0      13.0\n",
       "16  2014-01-22         420   380.0   391.0   390.0   390.0      13.0\n",
       "17  2014-01-23         426   420.0   380.0   391.0   390.0      14.0\n",
       "18  2014-01-24         473   426.0   420.0   380.0   391.0      13.0\n",
       "19  2014-01-25         465   473.0   426.0   420.0   380.0      14.0\n",
       "20  2014-01-26         405   465.0   473.0   426.0   420.0      14.0\n",
       "21  2014-01-27         380   405.0   465.0   473.0   426.0      14.0\n",
       "22  2014-01-28         380   390.0   405.0   465.0   473.0      14.0\n",
       "23  2014-01-29         380   390.0   390.0   405.0   465.0      14.0\n",
       "24  2014-01-30         380   390.0   390.0   390.0   405.0      14.0\n",
       "25  2014-01-31         380   390.0   390.0   390.0   390.0      14.0\n",
       "26  2014-02-01         380   390.0   390.0   390.0   390.0      14.0\n",
       "27  2014-02-02         380   390.0   390.0   390.0   390.0      14.0\n",
       "28  2014-02-03         393   390.0   390.0   390.0   390.0      11.0\n",
       "29  2014-02-04         397   393.0   390.0   390.0   390.0      10.0"
      ]
     },
     "execution_count": 30,
     "metadata": {},
     "output_type": "execute_result"
    }
   ],
   "source": [
    "data.head(30)"
   ]
  },
  {
   "cell_type": "code",
   "execution_count": 31,
   "metadata": {},
   "outputs": [
    {
     "name": "stdout",
     "output_type": "stream",
     "text": [
      "     lang_1  lang_2  lang_3  lang_4  avg_temp\n",
      "0     390.0   390.0   390.0   390.0      11.0\n",
      "1     393.0   390.0   390.0   390.0      12.0\n",
      "2     376.0   393.0   390.0   390.0      13.0\n",
      "3     430.0   376.0   393.0   390.0      13.0\n",
      "4     392.0   430.0   376.0   393.0      12.0\n",
      "..      ...     ...     ...     ...       ...\n",
      "352   426.0   440.0   390.0   390.0      13.0\n",
      "353   370.0   426.0   440.0   390.0      11.0\n",
      "354   257.0   370.0   426.0   440.0      11.0\n",
      "355   409.0   257.0   370.0   426.0       9.0\n",
      "356   376.0   409.0   257.0   370.0      10.0\n",
      "\n",
      "[357 rows x 5 columns]\n"
     ]
    }
   ],
   "source": [
    "X_multiple = data.iloc[:, 2:7] # Última columna\n",
    "print(X_multiple)"
   ]
  },
  {
   "cell_type": "code",
   "execution_count": 32,
   "metadata": {},
   "outputs": [
    {
     "name": "stdout",
     "output_type": "stream",
     "text": [
      "0      393\n",
      "1      376\n",
      "2      430\n",
      "3      392\n",
      "4      465\n",
      "      ... \n",
      "352    370\n",
      "353    257\n",
      "354    409\n",
      "355    376\n",
      "356    361\n",
      "Name: P_crimines, Length: 357, dtype: int64\n"
     ]
    }
   ],
   "source": [
    "Y_multiple = data.P_crimines\n",
    "print(Y_multiple)"
   ]
  },
  {
   "cell_type": "code",
   "execution_count": 33,
   "metadata": {},
   "outputs": [],
   "source": [
    "X_train, X_test, Y_train, Y_test = train_test_split(X_multiple, Y_multiple, test_size=0.2)"
   ]
  },
  {
   "cell_type": "code",
   "execution_count": 34,
   "metadata": {},
   "outputs": [],
   "source": [
    "#Algoritmo a utilizar\n",
    "neigh = KNeighborsRegressor(n_neighbors=5)"
   ]
  },
  {
   "cell_type": "code",
   "execution_count": 35,
   "metadata": {},
   "outputs": [
    {
     "data": {
      "text/plain": [
       "KNeighborsRegressor()"
      ]
     },
     "execution_count": 35,
     "metadata": {},
     "output_type": "execute_result"
    }
   ],
   "source": [
    "#Entrenamiento\n",
    "neigh.fit(X_train, Y_train)"
   ]
  },
  {
   "cell_type": "code",
   "execution_count": 36,
   "metadata": {},
   "outputs": [],
   "source": [
    "#Predicción \n",
    "y_pred_knn = neigh.predict(X_test)"
   ]
  },
  {
   "cell_type": "code",
   "execution_count": 37,
   "metadata": {},
   "outputs": [],
   "source": [
    "#print(neigh.predict([[465.0,483.0,300.0,428.0,10.0]]))"
   ]
  },
  {
   "cell_type": "code",
   "execution_count": 38,
   "metadata": {},
   "outputs": [],
   "source": [
    "from sklearn.metrics import (r2_score, mean_squared_error, mean_absolute_error)"
   ]
  },
  {
   "cell_type": "code",
   "execution_count": 39,
   "metadata": {},
   "outputs": [
    {
     "name": "stdout",
     "output_type": "stream",
     "text": [
      "Linear Regression r**2  0.027\n"
     ]
    }
   ],
   "source": [
    "print('Linear Regression r**2 % 1.3f' % r2_score(Y_test,y_pred_knn))"
   ]
  },
  {
   "cell_type": "code",
   "execution_count": 40,
   "metadata": {},
   "outputs": [
    {
     "name": "stdout",
     "output_type": "stream",
     "text": [
      "Linear Regression RMSE  30.005\n"
     ]
    }
   ],
   "source": [
    "print('Linear Regression RMSE % 1.3f' %mean_squared_error(Y_test,y_pred_knn, squared=False))"
   ]
  },
  {
   "cell_type": "code",
   "execution_count": 41,
   "metadata": {},
   "outputs": [
    {
     "name": "stdout",
     "output_type": "stream",
     "text": [
      "Residuo promedio 17.719\n"
     ]
    }
   ],
   "source": [
    "print (\"Residuo promedio %.3f\" % (abs((Y_test-y_pred_knn)).mean()))"
   ]
  },
  {
   "cell_type": "code",
   "execution_count": 42,
   "metadata": {},
   "outputs": [
    {
     "name": "stdout",
     "output_type": "stream",
     "text": [
      "0.3717083309380237\n"
     ]
    }
   ],
   "source": [
    "#Para la precisión de nuestro algoritmo \n",
    "#Como nos damos cuenta nuestro valor no es muy bueno pues se aleja mucho de 1\n",
    "print(neigh.score(X_train, Y_train))"
   ]
  },
  {
   "cell_type": "code",
   "execution_count": null,
   "metadata": {},
   "outputs": [],
   "source": []
  }
 ],
 "metadata": {
  "kernelspec": {
   "display_name": "Python 3",
   "language": "python",
   "name": "python3"
  },
  "language_info": {
   "codemirror_mode": {
    "name": "ipython",
    "version": 3
   },
   "file_extension": ".py",
   "mimetype": "text/x-python",
   "name": "python",
   "nbconvert_exporter": "python",
   "pygments_lexer": "ipython3",
   "version": "3.8.3"
  }
 },
 "nbformat": 4,
 "nbformat_minor": 4
}
